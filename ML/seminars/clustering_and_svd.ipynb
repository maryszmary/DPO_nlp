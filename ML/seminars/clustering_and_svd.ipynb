{
 "cells": [
  {
   "cell_type": "markdown",
   "metadata": {},
   "source": [
    "# Кластеризация"
   ]
  },
  {
   "cell_type": "code",
   "execution_count": 1,
   "metadata": {},
   "outputs": [],
   "source": [
    "import re\n",
    "import numpy as np\n",
    "import pandas as pd\n",
    "from nltk import word_tokenize\n",
    "import nltk\n",
    "from nltk.corpus import stopwords\n",
    "import matplotlib.pyplot as plt\n",
    "import seaborn as sns\n",
    "\n",
    "%matplotlib inline"
   ]
  },
  {
   "cell_type": "markdown",
   "metadata": {},
   "source": [
    "### Предобработка"
   ]
  },
  {
   "cell_type": "code",
   "execution_count": 3,
   "metadata": {},
   "outputs": [],
   "source": [
    "# Загрузили данные\n",
    "df_events = pd.read_csv('events.csv')\n",
    "df_news = pd.read_csv('raw_news.csv', index_col='id')"
   ]
  },
  {
   "cell_type": "code",
   "execution_count": 4,
   "metadata": {},
   "outputs": [
    {
     "data": {
      "text/html": [
       "<div>\n",
       "<style scoped>\n",
       "    .dataframe tbody tr th:only-of-type {\n",
       "        vertical-align: middle;\n",
       "    }\n",
       "\n",
       "    .dataframe tbody tr th {\n",
       "        vertical-align: top;\n",
       "    }\n",
       "\n",
       "    .dataframe thead th {\n",
       "        text-align: right;\n",
       "    }\n",
       "</style>\n",
       "<table border=\"1\" class=\"dataframe\">\n",
       "  <thead>\n",
       "    <tr style=\"text-align: right;\">\n",
       "      <th></th>\n",
       "      <th>id</th>\n",
       "      <th>date</th>\n",
       "      <th>name</th>\n",
       "    </tr>\n",
       "  </thead>\n",
       "  <tbody>\n",
       "    <tr>\n",
       "      <th>0</th>\n",
       "      <td>1</td>\n",
       "      <td>01/10/17 12:00 AM</td>\n",
       "      <td>Власти Петербурга согласились передать РПЦ Иса...</td>\n",
       "    </tr>\n",
       "    <tr>\n",
       "      <th>1</th>\n",
       "      <td>2</td>\n",
       "      <td>01/20/17 12:00 AM</td>\n",
       "      <td>Дональд Трамп вступил в должность президента США.</td>\n",
       "    </tr>\n",
       "    <tr>\n",
       "      <th>2</th>\n",
       "      <td>3</td>\n",
       "      <td>02/20/17 12:00 AM</td>\n",
       "      <td>Скоропостижно скончался постпред России при ОО...</td>\n",
       "    </tr>\n",
       "    <tr>\n",
       "      <th>3</th>\n",
       "      <td>4</td>\n",
       "      <td>03/02/17 12:00 AM</td>\n",
       "      <td>Вышел фильм Навального «он Вам не димон»</td>\n",
       "    </tr>\n",
       "    <tr>\n",
       "      <th>4</th>\n",
       "      <td>5</td>\n",
       "      <td>03/14/17 12:00 AM</td>\n",
       "      <td>CNN показала фильм «Владимир Путин — самый вли...</td>\n",
       "    </tr>\n",
       "  </tbody>\n",
       "</table>\n",
       "</div>"
      ],
      "text/plain": [
       "   id               date                                               name\n",
       "0   1  01/10/17 12:00 AM  Власти Петербурга согласились передать РПЦ Иса...\n",
       "1   2  01/20/17 12:00 AM  Дональд Трамп вступил в должность президента США.\n",
       "2   3  02/20/17 12:00 AM  Скоропостижно скончался постпред России при ОО...\n",
       "3   4  03/02/17 12:00 AM           Вышел фильм Навального «он Вам не димон»\n",
       "4   5  03/14/17 12:00 AM  CNN показала фильм «Владимир Путин — самый вли..."
      ]
     },
     "execution_count": 4,
     "metadata": {},
     "output_type": "execute_result"
    }
   ],
   "source": [
    "df_events.head()"
   ]
  },
  {
   "cell_type": "markdown",
   "metadata": {},
   "source": [
    "Посмотрим на данные:"
   ]
  },
  {
   "cell_type": "code",
   "execution_count": 5,
   "metadata": {},
   "outputs": [
    {
     "data": {
      "text/html": [
       "<div>\n",
       "<style scoped>\n",
       "    .dataframe tbody tr th:only-of-type {\n",
       "        vertical-align: middle;\n",
       "    }\n",
       "\n",
       "    .dataframe tbody tr th {\n",
       "        vertical-align: top;\n",
       "    }\n",
       "\n",
       "    .dataframe thead th {\n",
       "        text-align: right;\n",
       "    }\n",
       "</style>\n",
       "<table border=\"1\" class=\"dataframe\">\n",
       "  <thead>\n",
       "    <tr style=\"text-align: right;\">\n",
       "      <th></th>\n",
       "      <th>event_id</th>\n",
       "      <th>text</th>\n",
       "    </tr>\n",
       "    <tr>\n",
       "      <th>id</th>\n",
       "      <th></th>\n",
       "      <th></th>\n",
       "    </tr>\n",
       "  </thead>\n",
       "  <tbody>\n",
       "    <tr>\n",
       "      <th>0</th>\n",
       "      <td>1</td>\n",
       "      <td>В ПЕТЕРБУРГЕ ПРОШЕЛ МИТИНГ ПРОТИВ ПЕРЕДАЧИ ИС...</td>\n",
       "    </tr>\n",
       "    <tr>\n",
       "      <th>1</th>\n",
       "      <td>1</td>\n",
       "      <td>Lenta.co, Москва, 14 января 2017 СИТУАЦИЯ С П...</td>\n",
       "    </tr>\n",
       "    <tr>\n",
       "      <th>2</th>\n",
       "      <td>1</td>\n",
       "      <td>Аргументы и Факты (aif.ru), Москва, 14 января...</td>\n",
       "    </tr>\n",
       "    <tr>\n",
       "      <th>3</th>\n",
       "      <td>1</td>\n",
       "      <td>Google Новости ТОП, Москва, 14 января 2017 АК...</td>\n",
       "    </tr>\n",
       "    <tr>\n",
       "      <th>4</th>\n",
       "      <td>1</td>\n",
       "      <td>Газета.Ru, Москва, 13 января 2017 В МОСКОВСКО...</td>\n",
       "    </tr>\n",
       "    <tr>\n",
       "      <th>5</th>\n",
       "      <td>1</td>\n",
       "      <td>Top Real Estate (topre.ru), Москва, 13 января...</td>\n",
       "    </tr>\n",
       "    <tr>\n",
       "      <th>6</th>\n",
       "      <td>1</td>\n",
       "      <td>Findnews.ru, Москва, 13 января 2017 ПОЛИЦИЯ Н...</td>\n",
       "    </tr>\n",
       "    <tr>\n",
       "      <th>7</th>\n",
       "      <td>1</td>\n",
       "      <td>ПРАВДА.info (pravda.info), Москва, 13 января ...</td>\n",
       "    </tr>\n",
       "    <tr>\n",
       "      <th>8</th>\n",
       "      <td>1</td>\n",
       "      <td>Голос Америки (golos-ameriki.ru), Москва, 13 ...</td>\n",
       "    </tr>\n",
       "    <tr>\n",
       "      <th>9</th>\n",
       "      <td>1</td>\n",
       "      <td>Выбор Народа (vybor-naroda.org), Москва, 13 я...</td>\n",
       "    </tr>\n",
       "  </tbody>\n",
       "</table>\n",
       "</div>"
      ],
      "text/plain": [
       "    event_id                                               text\n",
       "id                                                             \n",
       "0          1   В ПЕТЕРБУРГЕ ПРОШЕЛ МИТИНГ ПРОТИВ ПЕРЕДАЧИ ИС...\n",
       "1          1   Lenta.co, Москва, 14 января 2017 СИТУАЦИЯ С П...\n",
       "2          1   Аргументы и Факты (aif.ru), Москва, 14 января...\n",
       "3          1   Google Новости ТОП, Москва, 14 января 2017 АК...\n",
       "4          1   Газета.Ru, Москва, 13 января 2017 В МОСКОВСКО...\n",
       "5          1   Top Real Estate (topre.ru), Москва, 13 января...\n",
       "6          1   Findnews.ru, Москва, 13 января 2017 ПОЛИЦИЯ Н...\n",
       "7          1   ПРАВДА.info (pravda.info), Москва, 13 января ...\n",
       "8          1   Голос Америки (golos-ameriki.ru), Москва, 13 ...\n",
       "9          1   Выбор Народа (vybor-naroda.org), Москва, 13 я..."
      ]
     },
     "execution_count": 5,
     "metadata": {},
     "output_type": "execute_result"
    }
   ],
   "source": [
    "df_news.head(10)"
   ]
  },
  {
   "cell_type": "code",
   "execution_count": 6,
   "metadata": {},
   "outputs": [
    {
     "data": {
      "text/plain": [
       "['и', 'в', 'во', 'не', 'что', 'он', 'на', 'я', 'с', 'со']"
      ]
     },
     "execution_count": 6,
     "metadata": {},
     "output_type": "execute_result"
    }
   ],
   "source": [
    "# Загрузили стопслова для русского языка из nltk\n",
    "stopset = stopwords.words('russian')\n",
    "stopset[:10]"
   ]
  },
  {
   "cell_type": "code",
   "execution_count": 18,
   "metadata": {},
   "outputs": [],
   "source": [
    "# Токенизация, чистка\n",
    "def tokenize(msg):\n",
    "    # убрали знаки препинания и привели к нижнему регистру\n",
    "    msg = re.sub('[!\"?/\\\\().:;,-]', '', msg).lower()\n",
    "    msg = [w for w in word_tokenize(msg) if not w in stopset] # токенизировали и избавились от стоп слов\n",
    "    return msg"
   ]
  },
  {
   "cell_type": "code",
   "execution_count": 13,
   "metadata": {},
   "outputs": [
    {
     "data": {
      "text/plain": [
       "['петербурге',\n",
       " 'прошел',\n",
       " 'митинг',\n",
       " 'против',\n",
       " 'передачи',\n",
       " 'исаакиевского',\n",
       " 'собора',\n",
       " 'рпц',\n",
       " 'санктпетербурге',\n",
       " 'люди']"
      ]
     },
     "execution_count": 13,
     "metadata": {},
     "output_type": "execute_result"
    }
   ],
   "source": [
    "tokenize(df_news['text'].iloc[0], stopset)[:10]"
   ]
  },
  {
   "cell_type": "markdown",
   "metadata": {},
   "source": [
    "Посмотрим на распоределение данных по событиям:"
   ]
  },
  {
   "cell_type": "code",
   "execution_count": 15,
   "metadata": {},
   "outputs": [
    {
     "data": {
      "text/plain": [
       "<matplotlib.axes._subplots.AxesSubplot at 0x7f69e0adbc50>"
      ]
     },
     "execution_count": 15,
     "metadata": {},
     "output_type": "execute_result"
    },
    {
     "data": {
      "image/png": "[encoded data removed]",
      "text/plain": [
       "<Figure size 432x288 with 1 Axes>"
      ]
     },
     "metadata": {},
     "output_type": "display_data"
    }
   ],
   "source": [
    "sns.countplot(x=df_news['event_id'], data=df_news, palette=\"Set3\")"
   ]
  },
  {
   "cell_type": "markdown",
   "metadata": {
    "collapsed": true
   },
   "source": [
    "Из представленного выше графика видно, что данные неоднородны."
   ]
  },
  {
   "cell_type": "markdown",
   "metadata": {},
   "source": [
    "## Часть 2. Кластеризация текстов"
   ]
  },
  {
   "cell_type": "markdown",
   "metadata": {},
   "source": [
    "**Задание**: Любым известным вам алгоритмом найдите в коллекции новостей 28 кластеров. Используйте $tf-idf$ преобразование, сингулярное разложение, нормировку признакого пространства и любые другие техники обработки данных, которые вы считаете нужным. Используйте любые известные вам меры качества для оценки качества кластеризации. Покажите, как $tf-idf$ преобразование или сингулярное разложение или любая другая использованная вами техника влияет на качество кластеризации."
   ]
  },
  {
   "cell_type": "markdown",
   "metadata": {},
   "source": [
    "**Задача**: Проверить, получается ли восстановить кластерную структуру новостей, то есть, разделить их на 28 кластеров, соответствущих событиям."
   ]
  },
  {
   "cell_type": "markdown",
   "metadata": {},
   "source": [
    "### Строим k-means модель на tf-idf"
   ]
  },
  {
   "cell_type": "markdown",
   "metadata": {},
   "source": [
    "В этом разделе мы применим один из методов кластеризации с использованием tf-idf и метода k-means."
   ]
  },
  {
   "cell_type": "markdown",
   "metadata": {},
   "source": [
    "#### Tf-idf преобразование"
   ]
  },
  {
   "cell_type": "code",
   "execution_count": 16,
   "metadata": {},
   "outputs": [],
   "source": [
    "from sklearn.feature_extraction.text import CountVectorizer, TfidfVectorizer"
   ]
  },
  {
   "cell_type": "markdown",
   "metadata": {},
   "source": [
    "Преобразовываем документы в векторы с tf-idf."
   ]
  },
  {
   "cell_type": "code",
   "execution_count": 19,
   "metadata": {},
   "outputs": [],
   "source": [
    "bow_tfidf = TfidfVectorizer(tokenizer=tokenize)\n",
    "bowed_news = bow_tfidf.fit_transform(df_news['text'])"
   ]
  },
  {
   "cell_type": "code",
   "execution_count": 20,
   "metadata": {},
   "outputs": [
    {
     "data": {
      "text/plain": [
       "<1930x65180 sparse matrix of type '<class 'numpy.float64'>'\n",
       "\twith 509127 stored elements in Compressed Sparse Row format>"
      ]
     },
     "execution_count": 20,
     "metadata": {},
     "output_type": "execute_result"
    }
   ],
   "source": [
    "bowed_news"
   ]
  },
  {
   "cell_type": "markdown",
   "metadata": {},
   "source": [
    "#### K-means кластериазация"
   ]
  },
  {
   "cell_type": "code",
   "execution_count": 21,
   "metadata": {},
   "outputs": [],
   "source": [
    "from sklearn.cluster import KMeans"
   ]
  },
  {
   "cell_type": "code",
   "execution_count": 22,
   "metadata": {},
   "outputs": [
    {
     "data": {
      "text/plain": [
       "KMeans(algorithm='auto', copy_x=True, init='k-means++', max_iter=100,\n",
       "    n_clusters=28, n_init=1, n_jobs=1, precompute_distances='auto',\n",
       "    random_state=37, tol=0.0001, verbose=0)"
      ]
     },
     "execution_count": 22,
     "metadata": {},
     "output_type": "execute_result"
    }
   ],
   "source": [
    "model = KMeans(n_clusters=28, init='k-means++', max_iter=100, n_init=1, random_state=37)\n",
    "model.fit(bowed_news)"
   ]
  },
  {
   "cell_type": "markdown",
   "metadata": {},
   "source": [
    "Чтобы примерно оценить темы новостных кластеров, выведем для каждого из них топ 10 слов, характерных для каждого кластера:"
   ]
  },
  {
   "cell_type": "code",
   "execution_count": 23,
   "metadata": {},
   "outputs": [
    {
     "name": "stdout",
     "output_type": "stream",
     "text": [
      "Top terms per cluster:\n",
      "Cluster 0:\n",
      " лондоне\n",
      " теракт\n",
      " теракта\n",
      " марта\n",
      " мэй\n",
      " парламента\n",
      " 23\n",
      " великобритании\n",
      " мосту\n",
      " террорист\n",
      "Cluster 1:\n",
      " меркель\n",
      " германии\n",
      " сочи\n",
      " украине\n",
      " это\n",
      " фрау\n",
      " путина\n",
      " порошенко\n",
      " путиным\n",
      " украина\n",
      "Cluster 2:\n",
      " вороненков\n",
      " вороненкова\n",
      " денис\n",
      " убит\n",
      " госдумы\n",
      " дениса\n",
      " украины\n",
      " киеве\n",
      " киева\n",
      " убийство\n",
      "Cluster 3:\n",
      " урагана\n",
      " москве\n",
      " ск\n",
      " человек\n",
      " петренко\n",
      " области\n",
      " подмосковье\n",
      " стихии\n",
      " мая\n",
      " московской\n",
      "Cluster 4:\n",
      " акции\n",
      " навального\n",
      " навальный\n",
      " митинг\n",
      " протеста\n",
      " москве\n",
      " митинга\n",
      " человек\n",
      " тверской\n",
      " июня\n",
      "Cluster 5:\n",
      " httpwwwsportexpressruhockeyworldreviewskakizmenitsyasbornayasorlovymikuznecovym1254960\n",
      " afp\n",
      " кузнецов\n",
      " евгений\n",
      " игроки\n",
      " евтушенко\n",
      " любил\n",
      " бацын\n",
      " фото\n",
      " литературы\n",
      "Cluster 6:\n",
      " барселоне\n",
      " риа\n",
      " барселоны\n",
      " новости\n",
      " камбрильсе\n",
      " испании\n",
      " каталонии\n",
      " >\n",
      " людей\n",
      " фургон\n",
      "Cluster 7:\n",
      " собора\n",
      " рпц\n",
      " исаакиевского\n",
      " передачи\n",
      " собор\n",
      " января\n",
      " исаакиевский\n",
      " церкви\n",
      " акция\n",
      " против\n",
      "Cluster 8:\n",
      " %\n",
      " d0\n",
      " d1\n",
      " b5\n",
      " be\n",
      " b8\n",
      " 81\n",
      " b2\n",
      " b0\n",
      " 80\n",
      "Cluster 9:\n",
      " сбора\n",
      " сбор\n",
      " курортного\n",
      " законопроект\n",
      " курортный\n",
      " эксперимента\n",
      " курортной\n",
      " госдуму\n",
      " алтайском\n",
      " рублей\n",
      "Cluster 10:\n",
      " партия\n",
      " великобритании\n",
      " мандатов\n",
      " выборов\n",
      " мэй\n",
      " парламентских\n",
      " июня\n",
      " партии\n",
      " трамп\n",
      " 318\n",
      "Cluster 11:\n",
      " голосования\n",
      " %\n",
      " выборы\n",
      " явка\n",
      " выборах\n",
      " сентября\n",
      " избирателей\n",
      " области\n",
      " 10\n",
      " цик\n",
      "Cluster 12:\n",
      " меркель\n",
      " путин\n",
      " сочи\n",
      " германии\n",
      " канцлер\n",
      " фрг\n",
      " путина\n",
      " ангела\n",
      " канцлера\n",
      " украине\n",
      "Cluster 13:\n",
      " трамп\n",
      " сша\n",
      " псаки\n",
      " трампа\n",
      " путина\n",
      " июля\n",
      " путин\n",
      " g20\n",
      " гамбурге\n",
      " выборы\n",
      "Cluster 14:\n",
      " евтушенко\n",
      " евгений\n",
      " поэт\n",
      " поэта\n",
      " умер\n",
      " апреля\n",
      " году\n",
      " сша\n",
      " жизни\n",
      " евгения\n",
      "Cluster 15:\n",
      " конфедераций\n",
      " кубка\n",
      " fifa\n",
      " июня\n",
      " кубок\n",
      " матч\n",
      " 19\n",
      " казани\n",
      " 17\n",
      " матча\n",
      "Cluster 16:\n",
      " путин\n",
      " это\n",
      " медведева\n",
      " фбк\n",
      " президент\n",
      " вопрос\n",
      " прямой\n",
      " линии\n",
      " расследование\n",
      " сша\n",
      "Cluster 17:\n",
      " меркель\n",
      " порошенко\n",
      " ушаков\n",
      " канцлер\n",
      " путину\n",
      " переговорить\n",
      " сочи\n",
      " фрг\n",
      " украины\n",
      " пообещала\n",
      "Cluster 18:\n",
      " оон\n",
      " чуркине\n",
      " чуркин\n",
      " цветы\n",
      " виталии\n",
      " февраля\n",
      " мид\n",
      " свечи\n",
      " лист\n",
      " бумаги\n",
      "Cluster 19:\n",
      " falcon\n",
      " 9\n",
      " ракеты\n",
      " spacex\n",
      " запуск\n",
      " ступень\n",
      " space\n",
      " x\n",
      " маска\n",
      " компании\n",
      "Cluster 20:\n",
      " франции\n",
      " макрона\n",
      " макрон\n",
      " пен\n",
      " ле\n",
      " %\n",
      " туре\n",
      " победой\n",
      " марин\n",
      " выборов\n",
      "Cluster 21:\n",
      " евровидение\n",
      " самойловой\n",
      " самойлова\n",
      " юлии\n",
      " юлия\n",
      " сбу\n",
      " конкурсе\n",
      " конкурс\n",
      " въезд\n",
      " украины\n",
      "Cluster 22:\n",
      " рокфеллер\n",
      " дэвид\n",
      " умер\n",
      " рокфеллера\n",
      " миллиардер\n",
      " 101\n",
      " года\n",
      " миллиардера\n",
      " возрасте\n",
      " ньюйорке\n",
      "Cluster 23:\n",
      " сборной\n",
      " сборная\n",
      " мира\n",
      " хоккею\n",
      " матче\n",
      " мая\n",
      " чемпионата\n",
      " команды\n",
      " этапа\n",
      " группового\n",
      "Cluster 24:\n",
      " трампа\n",
      " инаугурация\n",
      " трамп\n",
      " инаугурации\n",
      " сша\n",
      " дональда\n",
      " дональд\n",
      " января\n",
      " президента\n",
      " 20\n",
      "Cluster 25:\n",
      " эксперимента\n",
      " курортной\n",
      " сбор\n",
      " инфраструктурой\n",
      " курортный\n",
      " госдуму\n",
      " законопроект\n",
      " года\n",
      " 2022\n",
      " пользование\n",
      "Cluster 26:\n",
      " урагана\n",
      " москве\n",
      " погибших\n",
      " деревьев\n",
      " собянин\n",
      " человек\n",
      " ураган\n",
      " мая\n",
      " тысяч\n",
      " 30\n",
      "Cluster 27:\n",
      " чуркин\n",
      " виталий\n",
      " оон\n",
      " чуркина\n",
      " февраля\n",
      " смерти\n",
      " умер\n",
      " виталия\n",
      " причина\n",
      " ньюйорке\n"
     ]
    }
   ],
   "source": [
    "print(\"Top terms per cluster:\")\n",
    "order_centroids = model.cluster_centers_.argsort()[:, ::-1]\n",
    "terms = bow_tfidf.get_feature_names()\n",
    "for i in range(28):\n",
    "    print(\"Cluster %d:\" % i),\n",
    "    for ind in order_centroids[i, :10]:\n",
    "        print(' %s' % terms[ind]),"
   ]
  },
  {
   "cell_type": "markdown",
   "metadata": {},
   "source": [
    "По субъективным ощущениям от характерных терминов, новости кластеризовались хорошо."
   ]
  },
  {
   "cell_type": "markdown",
   "metadata": {},
   "source": [
    "### Оценки"
   ]
  },
  {
   "cell_type": "code",
   "execution_count": 24,
   "metadata": {},
   "outputs": [],
   "source": [
    "from sklearn.metrics import adjusted_rand_score, homogeneity_score, completeness_score, v_measure_score"
   ]
  },
  {
   "cell_type": "code",
   "execution_count": 26,
   "metadata": {},
   "outputs": [],
   "source": [
    "labels = df_news.event_id # истинные метки событий\n",
    "clust_labels = model.labels_ # метки номеров кластеров, возвращённых алгортмом"
   ]
  },
  {
   "cell_type": "markdown",
   "metadata": {},
   "source": [
    "Суть метрик качества и их значение для модели с дефолтными настройками. В следующем разделе мы попробуем другие модели и пытаемся проинтерпретировать результаты."
   ]
  },
  {
   "cell_type": "markdown",
   "metadata": {},
   "source": [
    "Меряем Adjusted Rand Index.\n",
    "\n",
    "**Rand Index (RI)** выражает схожесть двух разных кластеризаций одной и той же выборки. Пусть n — число объектов в выборке, a — число пар объектов, имеющих одинаковые метки и находящихся в одном кластере, b — число пар объектов, имеющих различные метки и находящихся в разных кластерах.\n",
    "\n",
    "$$RI = \\frac{2(a + b)}{n(n - 1)}$$\n",
    "\n",
    "Это доля объектов, для которых эти разбиения (исходное и полученное в результате кластеризации) \"согласованы\". Эта мера не зависит от значений и перестановок меток. \n",
    "\n",
    "**Adjusted Rand Index** — это Rand Index, нормированный, чтобы он давал значения близкие к нулю для случайных кластеризаций при любом n и числе кластеров:\n",
    "\n",
    "$$ARI = \\frac{RI - E[RI]}{max(RI)-E[RI]}$$\n",
    "\n",
    "(Теория взята из статьи на хабрахабр: https://habrahabr.ru/company/ods/blog/325654/)"
   ]
  },
  {
   "cell_type": "code",
   "execution_count": 27,
   "metadata": {},
   "outputs": [
    {
     "name": "stdout",
     "output_type": "stream",
     "text": [
      "Adjusted Rand-Index: 0.766098680977905\n"
     ]
    }
   ],
   "source": [
    "print(\"Adjusted Rand-Index:\",  adjusted_rand_score(labels, clust_labels))"
   ]
  },
  {
   "cell_type": "markdown",
   "metadata": {},
   "source": [
    "Меряем гомогенность, полноту и V-меру.\n",
    "\n",
    "Пусть K — результат кластеризации, C — истинное разбиение выборки на классы. Гомогенность h и полнота с определяются с использованием функций энтропии и условной энтропии:\n",
    "\n",
    "$$h = 1 - \\frac{H(C|K)}{H(C)}\\text{, }c = 1 - \\frac{H(K|C)}{H(K)}$$\n",
    "\n",
    "V-мера -- это среднее гармоическое от h и c.\n",
    "\n",
    "Так как данные метрики дают более точный результат при маленьком количестве кластеров, мы будем в большей мере ориентироваться на ARI.\n",
    "(Теория взята из статьи на хабрахабр: https://habrahabr.ru/company/ods/blog/325654/)"
   ]
  },
  {
   "cell_type": "code",
   "execution_count": 28,
   "metadata": {},
   "outputs": [
    {
     "name": "stdout",
     "output_type": "stream",
     "text": [
      "Гомогенность: 0.8982108664656662\n",
      "Полнота: 0.9080279150963403\n",
      "V-мера 0.9030927125685762\n"
     ]
    }
   ],
   "source": [
    "print(\"Гомогенность:\", homogeneity_score(labels, clust_labels))\n",
    "print(\"Полнота:\", completeness_score(labels, clust_labels))\n",
    "print(\"V-мера\",  v_measure_score(labels, clust_labels))"
   ]
  },
  {
   "cell_type": "markdown",
   "metadata": {},
   "source": [
    "Как мы видим, новости довольно хорошо разбиваются на кластеры в конфигурации tf-idf + k-means."
   ]
  },
  {
   "cell_type": "markdown",
   "metadata": {},
   "source": [
    "### Альтернативные модели\n",
    "\n",
    "А теперь давайте поизменяем гиперпараметры и попробуем другие алгоритмы. Станет ли лучше?"
   ]
  },
  {
   "cell_type": "code",
   "execution_count": null,
   "metadata": {},
   "outputs": [],
   "source": []
  },
  {
   "cell_type": "markdown",
   "metadata": {},
   "source": [
    "# SVD\n",
    "\n",
    "Возмём задачу из позапрошлого семинара и добавим в представлние дркументов SVD. "
   ]
  },
  {
   "cell_type": "code",
   "execution_count": 29,
   "metadata": {},
   "outputs": [],
   "source": [
    "lenta = pd.read_csv('news_lenta_cropped.csv')"
   ]
  },
  {
   "cell_type": "code",
   "execution_count": 31,
   "metadata": {},
   "outputs": [
    {
     "data": {
      "text/html": [
       "<div>\n",
       "<style scoped>\n",
       "    .dataframe tbody tr th:only-of-type {\n",
       "        vertical-align: middle;\n",
       "    }\n",
       "\n",
       "    .dataframe tbody tr th {\n",
       "        vertical-align: top;\n",
       "    }\n",
       "\n",
       "    .dataframe thead th {\n",
       "        text-align: right;\n",
       "    }\n",
       "</style>\n",
       "<table border=\"1\" class=\"dataframe\">\n",
       "  <thead>\n",
       "    <tr style=\"text-align: right;\">\n",
       "      <th></th>\n",
       "      <th>title</th>\n",
       "      <th>topic</th>\n",
       "    </tr>\n",
       "  </thead>\n",
       "  <tbody>\n",
       "    <tr>\n",
       "      <th>0</th>\n",
       "      <td>Грудь Бритни Спирс вновь выскочила из лифчика ...</td>\n",
       "      <td>Культура</td>\n",
       "    </tr>\n",
       "    <tr>\n",
       "      <th>1</th>\n",
       "      <td>Попытка вернуть укатившийся мяч у Кремлевской ...</td>\n",
       "      <td>Силовые структуры</td>\n",
       "    </tr>\n",
       "    <tr>\n",
       "      <th>2</th>\n",
       "      <td>Хабенский стал врагом Украины</td>\n",
       "      <td>Культура</td>\n",
       "    </tr>\n",
       "    <tr>\n",
       "      <th>3</th>\n",
       "      <td>В Туркмении запретили продажу алкоголя</td>\n",
       "      <td>Бывший СССР</td>\n",
       "    </tr>\n",
       "    <tr>\n",
       "      <th>4</th>\n",
       "      <td>В Великобритании нашли утерянный сценарий Стен...</td>\n",
       "      <td>Культура</td>\n",
       "    </tr>\n",
       "  </tbody>\n",
       "</table>\n",
       "</div>"
      ],
      "text/plain": [
       "                                               title              topic\n",
       "0  Грудь Бритни Спирс вновь выскочила из лифчика ...           Культура\n",
       "1  Попытка вернуть укатившийся мяч у Кремлевской ...  Силовые структуры\n",
       "2                      Хабенский стал врагом Украины           Культура\n",
       "3             В Туркмении запретили продажу алкоголя        Бывший СССР\n",
       "4  В Великобритании нашли утерянный сценарий Стен...           Культура"
      ]
     },
     "execution_count": 31,
     "metadata": {},
     "output_type": "execute_result"
    }
   ],
   "source": [
    "lenta.head()"
   ]
  },
  {
   "cell_type": "code",
   "execution_count": 37,
   "metadata": {},
   "outputs": [],
   "source": [
    "from sklearn.model_selection import train_test_split\n",
    "from sklearn.feature_extraction.text import CountVectorizer\n",
    "from sklearn.linear_model import LogisticRegression"
   ]
  },
  {
   "cell_type": "code",
   "execution_count": 38,
   "metadata": {},
   "outputs": [],
   "source": [
    "vectorizer = CountVectorizer()\n",
    "bow = vectorizer.fit_transform(lenta.title)"
   ]
  },
  {
   "cell_type": "code",
   "execution_count": 39,
   "metadata": {},
   "outputs": [],
   "source": [
    "X_train, X_test, y_train, y_test = train_test_split(bow, lenta.topic)"
   ]
  },
  {
   "cell_type": "code",
   "execution_count": 43,
   "metadata": {},
   "outputs": [
    {
     "data": {
      "text/plain": [
       "LogisticRegression(C=1.0, class_weight=None, dual=False, fit_intercept=True,\n",
       "          intercept_scaling=1, max_iter=100, multi_class='ovr', n_jobs=1,\n",
       "          penalty='l2', random_state=None, solver='liblinear', tol=0.0001,\n",
       "          verbose=0, warm_start=False)"
      ]
     },
     "execution_count": 43,
     "metadata": {},
     "output_type": "execute_result"
    }
   ],
   "source": [
    "clf = LogisticRegression()\n",
    "clf.fit(X_train, y_train)"
   ]
  },
  {
   "cell_type": "code",
   "execution_count": 44,
   "metadata": {},
   "outputs": [],
   "source": [
    "from sklearn.metrics import classification_report"
   ]
  },
  {
   "cell_type": "code",
   "execution_count": 45,
   "metadata": {},
   "outputs": [
    {
     "name": "stdout",
     "output_type": "stream",
     "text": [
      "                   precision    recall  f1-score   support\n",
      "\n",
      "      Бывший СССР       0.96      0.96      0.96     12949\n",
      "         Культура       0.93      0.97      0.95     13162\n",
      "Силовые структуры       0.93      0.87      0.90      4644\n",
      "         Ценности       0.96      0.75      0.84      1728\n",
      "\n",
      "      avg / total       0.94      0.94      0.94     32483\n",
      "\n"
     ]
    }
   ],
   "source": [
    "print(classification_report(y_test, clf.predict(X_test)))"
   ]
  },
  {
   "cell_type": "markdown",
   "metadata": {},
   "source": [
    "Попробуем SVD:"
   ]
  },
  {
   "cell_type": "code",
   "execution_count": 46,
   "metadata": {},
   "outputs": [],
   "source": [
    "from sklearn.decomposition import TruncatedSVD"
   ]
  },
  {
   "cell_type": "code",
   "execution_count": 76,
   "metadata": {},
   "outputs": [],
   "source": [
    "svd = TruncatedSVD(n_components=300, n_iter=7, random_state=42)"
   ]
  },
  {
   "cell_type": "code",
   "execution_count": 77,
   "metadata": {},
   "outputs": [
    {
     "data": {
      "text/plain": [
       "TruncatedSVD(algorithm='randomized', n_components=300, n_iter=7,\n",
       "       random_state=42, tol=0.0)"
      ]
     },
     "execution_count": 77,
     "metadata": {},
     "output_type": "execute_result"
    }
   ],
   "source": [
    "svd.fit(bow)"
   ]
  },
  {
   "cell_type": "code",
   "execution_count": 78,
   "metadata": {},
   "outputs": [],
   "source": [
    "bow_transformed = svd.transform(bow)"
   ]
  },
  {
   "cell_type": "code",
   "execution_count": 79,
   "metadata": {},
   "outputs": [
    {
     "data": {
      "text/plain": [
       "300"
      ]
     },
     "execution_count": 79,
     "metadata": {},
     "output_type": "execute_result"
    }
   ],
   "source": [
    "len(bow_transformed[0])"
   ]
  },
  {
   "cell_type": "markdown",
   "metadata": {},
   "source": [
    "Посмотрим, что он умеет:"
   ]
  },
  {
   "cell_type": "code",
   "execution_count": 102,
   "metadata": {},
   "outputs": [],
   "source": [
    "a = svd.transform(vectorizer.transform(['президент приехал с визитом']))\n",
    "b = svd.transform(vectorizer.transform(['президент приехал в москву']))\n",
    "c = svd.transform(vectorizer.transform(['кот смотрит на картины']))"
   ]
  },
  {
   "cell_type": "code",
   "execution_count": 103,
   "metadata": {},
   "outputs": [],
   "source": [
    "from sklearn.metrics.pairwise import cosine_similarity"
   ]
  },
  {
   "cell_type": "code",
   "execution_count": 104,
   "metadata": {},
   "outputs": [
    {
     "data": {
      "text/plain": [
       "array([[0.72361874]])"
      ]
     },
     "execution_count": 104,
     "metadata": {},
     "output_type": "execute_result"
    }
   ],
   "source": [
    "cosine_similarity(a, b)"
   ]
  },
  {
   "cell_type": "code",
   "execution_count": 105,
   "metadata": {},
   "outputs": [
    {
     "data": {
      "text/plain": [
       "array([[-0.00037305]])"
      ]
     },
     "execution_count": 105,
     "metadata": {},
     "output_type": "execute_result"
    }
   ],
   "source": [
    "cosine_similarity(a, c)"
   ]
  },
  {
   "cell_type": "code",
   "execution_count": 80,
   "metadata": {},
   "outputs": [],
   "source": [
    "X_train, X_test, y_train, y_test = train_test_split(bow_transformed, lenta.topic)"
   ]
  },
  {
   "cell_type": "code",
   "execution_count": 82,
   "metadata": {},
   "outputs": [
    {
     "data": {
      "text/plain": [
       "LogisticRegression(C=1.0, class_weight=None, dual=False, fit_intercept=True,\n",
       "          intercept_scaling=1, max_iter=100, multi_class='ovr', n_jobs=1,\n",
       "          penalty='l2', random_state=None, solver='liblinear', tol=0.0001,\n",
       "          verbose=0, warm_start=False)"
      ]
     },
     "execution_count": 82,
     "metadata": {},
     "output_type": "execute_result"
    }
   ],
   "source": [
    "clf = LogisticRegression()\n",
    "clf.fit(X_train, y_train)"
   ]
  },
  {
   "cell_type": "code",
   "execution_count": 83,
   "metadata": {},
   "outputs": [
    {
     "name": "stdout",
     "output_type": "stream",
     "text": [
      "                   precision    recall  f1-score   support\n",
      "\n",
      "      Бывший СССР       0.87      0.84      0.86     12940\n",
      "         Культура       0.77      0.92      0.84     13188\n",
      "Силовые структуры       0.76      0.58      0.66      4618\n",
      "         Ценности       0.78      0.32      0.46      1737\n",
      "\n",
      "      avg / total       0.81      0.81      0.80     32483\n",
      "\n"
     ]
    }
   ],
   "source": [
    "print(classification_report(y_test, clf.predict(X_test)))"
   ]
  },
  {
   "cell_type": "markdown",
   "metadata": {},
   "source": [
    "**Задание**: попробуйте разное количество компонент в SVD."
   ]
  },
  {
   "cell_type": "code",
   "execution_count": null,
   "metadata": {},
   "outputs": [],
   "source": []
  }
 ],
 "metadata": {
  "kernelspec": {
   "display_name": "Python 3",
   "language": "python",
   "name": "python3"
  },
  "language_info": {
   "codemirror_mode": {
    "name": "ipython",
    "version": 3
   },
   "file_extension": ".py",
   "mimetype": "text/x-python",
   "name": "python",
   "nbconvert_exporter": "python",
   "pygments_lexer": "ipython3",
   "version": "3.5.2"
  }
 },
 "nbformat": 4,
 "nbformat_minor": 2
}
