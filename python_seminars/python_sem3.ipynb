{
 "cells": [
  {
   "cell_type": "markdown",
   "metadata": {},
   "source": [
    "# Списки+, множества, словари"
   ]
  },
  {
   "cell_type": "markdown",
   "metadata": {},
   "source": [
    "## Строки и списки: как превращать одно в другое"
   ]
  },
  {
   "cell_type": "code",
   "execution_count": 159,
   "metadata": {},
   "outputs": [],
   "source": [
    "tarkovsky = \"\"\"Был домик в три оконца\n",
    "В такой окрашен цвет,\n",
    "Что даже в спектре солнца\n",
    "Такого цвета нет.\"\"\""
   ]
  },
  {
   "cell_type": "code",
   "execution_count": 160,
   "metadata": {},
   "outputs": [
    {
     "name": "stdout",
     "output_type": "stream",
     "text": [
      "['Был', 'домик', 'в', 'три', 'оконца', 'В', 'такой', 'окрашен', 'цвет,', 'Что', 'даже', 'в', 'спектре', 'солнца', 'Такого', 'цвета', 'нет.']\n"
     ]
    }
   ],
   "source": [
    "splitted_tarkovsky = tarkovsky.split()\n",
    "print(splitted_tarkovsky)"
   ]
  },
  {
   "cell_type": "code",
   "execution_count": 156,
   "metadata": {},
   "outputs": [],
   "source": [
    "dirty_string = 'снег, снег, снег!'\n",
    "snow = dirty_string.split()\n",
    "# clean = dirty_string.strip('!?.&')\n",
    "for index in range(len(snow)):\n",
    "    snow[index] = snow[index].strip(',!')"
   ]
  },
  {
   "cell_type": "code",
   "execution_count": 157,
   "metadata": {},
   "outputs": [
    {
     "data": {
      "text/plain": [
       "['снег', 'снег', 'снег']"
      ]
     },
     "execution_count": 157,
     "metadata": {},
     "output_type": "execute_result"
    }
   ],
   "source": [
    "snow"
   ]
  },
  {
   "cell_type": "markdown",
   "metadata": {},
   "source": [
    "Можно также засплитить именно по пробелу:"
   ]
  },
  {
   "cell_type": "code",
   "execution_count": 98,
   "metadata": {},
   "outputs": [
    {
     "data": {
      "text/plain": [
       "['Был',\n",
       " 'домик',\n",
       " 'в',\n",
       " 'три',\n",
       " 'оконца\\nВ',\n",
       " 'такой',\n",
       " 'окрашен',\n",
       " 'цвет,\\nЧто',\n",
       " 'даже',\n",
       " 'в',\n",
       " 'спектре',\n",
       " 'солнца\\nТакого',\n",
       " 'цвета',\n",
       " 'нет.']"
      ]
     },
     "execution_count": 98,
     "metadata": {},
     "output_type": "execute_result"
    }
   ],
   "source": [
    "tarkovsky.split(' ')"
   ]
  },
  {
   "cell_type": "markdown",
   "metadata": {},
   "source": [
    "Или по переводу строки:"
   ]
  },
  {
   "cell_type": "code",
   "execution_count": 99,
   "metadata": {},
   "outputs": [
    {
     "data": {
      "text/plain": [
       "['Был домик в три оконца',\n",
       " 'В такой окрашен цвет,',\n",
       " 'Что даже в спектре солнца',\n",
       " 'Такого цвета нет.']"
      ]
     },
     "execution_count": 99,
     "metadata": {},
     "output_type": "execute_result"
    }
   ],
   "source": [
    "tarkovsky.split('\\n')"
   ]
  },
  {
   "cell_type": "markdown",
   "metadata": {},
   "source": [
    "Или по букве а:"
   ]
  },
  {
   "cell_type": "code",
   "execution_count": 101,
   "metadata": {},
   "outputs": [
    {
     "data": {
      "text/plain": [
       "['Был домик в три оконц',\n",
       " '\\nВ т',\n",
       " 'кой окр',\n",
       " 'шен цвет,\\nЧто д',\n",
       " 'же в спектре солнц',\n",
       " '\\nТ',\n",
       " 'кого цвет',\n",
       " ' нет.']"
      ]
     },
     "execution_count": 101,
     "metadata": {},
     "output_type": "execute_result"
    }
   ],
   "source": [
    "tarkovsky.split('а')"
   ]
  },
  {
   "cell_type": "markdown",
   "metadata": {},
   "source": [
    "А вот так массив из строк можно сделать снова одной строкой:"
   ]
  },
  {
   "cell_type": "code",
   "execution_count": 103,
   "metadata": {},
   "outputs": [
    {
     "data": {
      "text/plain": [
       "['Был', 'домик', 'в', 'три', 'оконца']"
      ]
     },
     "execution_count": 103,
     "metadata": {},
     "output_type": "execute_result"
    }
   ],
   "source": [
    "splitted_tarkovsky[:5]"
   ]
  },
  {
   "cell_type": "code",
   "execution_count": 107,
   "metadata": {},
   "outputs": [
    {
     "name": "stdout",
     "output_type": "stream",
     "text": [
      "Был домик в три оконца В такой окрашен цвет, Что даже в спектре солнца Такого цвета нет.\n"
     ]
    }
   ],
   "source": [
    "joined_tarkovsky = ' '.join(splitted_tarkovsky)\n",
    "print(joined_tarkovsky)"
   ]
  },
  {
   "cell_type": "code",
   "execution_count": 161,
   "metadata": {},
   "outputs": [
    {
     "name": "stdout",
     "output_type": "stream",
     "text": [
      "Был\n",
      "домик\n",
      "в\n",
      "три\n",
      "оконца\n",
      "В\n",
      "такой\n",
      "окрашен\n",
      "цвет,\n",
      "Что\n",
      "даже\n",
      "в\n",
      "спектре\n",
      "солнца\n",
      "Такого\n",
      "цвета\n",
      "нет.\n"
     ]
    }
   ],
   "source": [
    "joined_tarkovsky_2 = '\\n'.join(splitted_tarkovsky)\n",
    "print(joined_tarkovsky_2)"
   ]
  },
  {
   "cell_type": "code",
   "execution_count": 167,
   "metadata": {},
   "outputs": [
    {
     "data": {
      "text/plain": [
       "'2'"
      ]
     },
     "execution_count": 167,
     "metadata": {},
     "output_type": "execute_result"
    }
   ],
   "source": [
    "num = 2\n",
    "str(num)"
   ]
  },
  {
   "cell_type": "code",
   "execution_count": 170,
   "metadata": {},
   "outputs": [
    {
     "name": "stdout",
     "output_type": "stream",
     "text": [
      "1 3 5\n"
     ]
    }
   ],
   "source": [
    "a = [1, 3, 5]\n",
    "str_a = []\n",
    "for num in a:\n",
    "    str_a.append(str(num))\n",
    "print(' '.join(str_a))"
   ]
  },
  {
   "cell_type": "markdown",
   "metadata": {},
   "source": [
    "## Ещё функции для списков"
   ]
  },
  {
   "cell_type": "code",
   "execution_count": 171,
   "metadata": {},
   "outputs": [],
   "source": [
    "nums = [7, 1, 5, 6, 7, 9, 11, 0]"
   ]
  },
  {
   "cell_type": "code",
   "execution_count": 173,
   "metadata": {},
   "outputs": [
    {
     "name": "stdout",
     "output_type": "stream",
     "text": [
      "0 11 9 7 6 5 1 7 "
     ]
    }
   ],
   "source": [
    "for elem in reversed(nums):\n",
    "    print(elem, end=' ')"
   ]
  },
  {
   "cell_type": "code",
   "execution_count": 119,
   "metadata": {},
   "outputs": [
    {
     "data": {
      "text/plain": [
       "[0, 11, 9, 7, 6, 5, 1, 7]"
      ]
     },
     "execution_count": 119,
     "metadata": {},
     "output_type": "execute_result"
    }
   ],
   "source": [
    "list(reversed(nums))"
   ]
  },
  {
   "cell_type": "code",
   "execution_count": 185,
   "metadata": {},
   "outputs": [
    {
     "data": {
      "text/plain": [
       "['Был', 'В', 'Такого']"
      ]
     },
     "execution_count": 185,
     "metadata": {},
     "output_type": "execute_result"
    }
   ],
   "source": [
    "sorted(splitted_tarkovsky)[:3]"
   ]
  },
  {
   "cell_type": "code",
   "execution_count": 120,
   "metadata": {},
   "outputs": [
    {
     "data": {
      "text/plain": [
       "[11, 9, 7, 7, 6, 5, 1, 0]"
      ]
     },
     "execution_count": 120,
     "metadata": {},
     "output_type": "execute_result"
    }
   ],
   "source": [
    "sorted(nums, reverse=True)"
   ]
  },
  {
   "cell_type": "markdown",
   "metadata": {},
   "source": [
    "## Множества\n",
    "\n",
    "Ещё один тип данных.\n",
    "Важные вещи:\n",
    "* элементы всегда уникальны\n",
    "* индексация (типа a\\[7\\]) -- **не** поддерживается\n",
    "* как и список, изменяемый тип"
   ]
  },
  {
   "cell_type": "code",
   "execution_count": 110,
   "metadata": {},
   "outputs": [],
   "source": [
    "numbers = {2, 4, 6, 1}"
   ]
  },
  {
   "cell_type": "code",
   "execution_count": 132,
   "metadata": {},
   "outputs": [
    {
     "data": {
      "text/plain": [
       "{1, 2, 4, 6}"
      ]
     },
     "execution_count": 132,
     "metadata": {},
     "output_type": "execute_result"
    }
   ],
   "source": [
    "numbers"
   ]
  },
  {
   "cell_type": "code",
   "execution_count": 213,
   "metadata": {},
   "outputs": [],
   "source": [
    "numbers.add('ihbl')"
   ]
  },
  {
   "cell_type": "code",
   "execution_count": 214,
   "metadata": {},
   "outputs": [
    {
     "data": {
      "text/plain": [
       "{-9, 1, 123, 2, 4, 6, 7, 'a', 'ihbl', 'qw'}"
      ]
     },
     "execution_count": 214,
     "metadata": {},
     "output_type": "execute_result"
    }
   ],
   "source": [
    "numbers"
   ]
  },
  {
   "cell_type": "code",
   "execution_count": 217,
   "metadata": {},
   "outputs": [
    {
     "data": {
      "text/plain": [
       "True"
      ]
     },
     "execution_count": 217,
     "metadata": {},
     "output_type": "execute_result"
    }
   ],
   "source": [
    "type('123') == type('')"
   ]
  },
  {
   "cell_type": "code",
   "execution_count": 218,
   "metadata": {},
   "outputs": [
    {
     "name": "stdout",
     "output_type": "stream",
     "text": [
      "{1, 2, 4, 6, 7, -9, 123}\n"
     ]
    }
   ],
   "source": [
    "new_numders = set()\n",
    "for i in numbers:\n",
    "    if type(i) != type(''):\n",
    "        new_numders.add(i)\n",
    "        \n",
    "print(new_numders)"
   ]
  },
  {
   "cell_type": "code",
   "execution_count": 113,
   "metadata": {},
   "outputs": [],
   "source": [
    "more_numbers = set([23, 43, 43])"
   ]
  },
  {
   "cell_type": "code",
   "execution_count": 114,
   "metadata": {},
   "outputs": [
    {
     "data": {
      "text/plain": [
       "{23, 43}"
      ]
     },
     "execution_count": 114,
     "metadata": {},
     "output_type": "execute_result"
    }
   ],
   "source": [
    "more_numbers"
   ]
  },
  {
   "cell_type": "code",
   "execution_count": 115,
   "metadata": {},
   "outputs": [
    {
     "data": {
      "text/plain": [
       "{'e', 'l', 'r', 's', 't'}"
      ]
     },
     "execution_count": 115,
     "metadata": {},
     "output_type": "execute_result"
    }
   ],
   "source": [
    "letters = set('letters')\n",
    "letters"
   ]
  },
  {
   "cell_type": "code",
   "execution_count": 224,
   "metadata": {},
   "outputs": [
    {
     "data": {
      "text/plain": [
       "{11, 23, 43, 67}"
      ]
     },
     "execution_count": 224,
     "metadata": {},
     "output_type": "execute_result"
    }
   ],
   "source": [
    "more_numbers = {23, 43, 67, 11}\n",
    "more_numbers"
   ]
  },
  {
   "cell_type": "code",
   "execution_count": 225,
   "metadata": {},
   "outputs": [],
   "source": [
    "yet_more_numbers = {23, 15, 11}"
   ]
  },
  {
   "cell_type": "code",
   "execution_count": 226,
   "metadata": {},
   "outputs": [
    {
     "data": {
      "text/plain": [
       "{11, 23}"
      ]
     },
     "execution_count": 226,
     "metadata": {},
     "output_type": "execute_result"
    }
   ],
   "source": [
    "yet_more_numbers & more_numbers"
   ]
  },
  {
   "cell_type": "code",
   "execution_count": 227,
   "metadata": {},
   "outputs": [
    {
     "data": {
      "text/plain": [
       "{11, 15, 23, 43, 67}"
      ]
     },
     "execution_count": 227,
     "metadata": {},
     "output_type": "execute_result"
    }
   ],
   "source": [
    "yet_more_numbers | more_numbers"
   ]
  },
  {
   "cell_type": "code",
   "execution_count": 228,
   "metadata": {},
   "outputs": [
    {
     "data": {
      "text/plain": [
       "{15}"
      ]
     },
     "execution_count": 228,
     "metadata": {},
     "output_type": "execute_result"
    }
   ],
   "source": [
    "yet_more_numbers - more_numbers"
   ]
  },
  {
   "cell_type": "code",
   "execution_count": 229,
   "metadata": {},
   "outputs": [
    {
     "data": {
      "text/plain": [
       "{43, 67}"
      ]
     },
     "execution_count": 229,
     "metadata": {},
     "output_type": "execute_result"
    }
   ],
   "source": [
    "more_numbers - yet_more_numbers"
   ]
  },
  {
   "cell_type": "markdown",
   "metadata": {},
   "source": [
    "### Задание на сплит и множества\n",
    "\n",
    "Есть строка:"
   ]
  },
  {
   "cell_type": "code",
   "execution_count": 122,
   "metadata": {},
   "outputs": [],
   "source": [
    "sneg = \"\"\"\n",
    "снег идёт, снег идёт,\n",
    "к белым звёздочкам в буране\n",
    "тянутся цветы герани\n",
    "за оконный переплёт\n",
    "\"\"\""
   ]
  },
  {
   "cell_type": "markdown",
   "metadata": {},
   "source": [
    "Сколько здесь уникальных слов?"
   ]
  },
  {
   "cell_type": "code",
   "execution_count": null,
   "metadata": {},
   "outputs": [],
   "source": []
  },
  {
   "cell_type": "markdown",
   "metadata": {},
   "source": [
    "Выведите в алфавитном порядке все слова, которые здесь встретились:"
   ]
  },
  {
   "cell_type": "code",
   "execution_count": null,
   "metadata": {},
   "outputs": [],
   "source": []
  },
  {
   "cell_type": "markdown",
   "metadata": {},
   "source": [
    "## Ещё немного про циклы\n",
    "\n",
    "### Получение нового списка\n",
    "\n",
    "На прошлом занятии мы пробегались по списку и заменяли каждый элемент на что-то другое. Но:\n",
    "* есть куда более простой для понимания способ получить один список на основе другого\n",
    "* что если нужно получить список меньшего размера -- только для некоторых элементов?\n",
    "* что если нам нужен и старый список, и новый?\n",
    "\n",
    "Обычно делают так:"
   ]
  },
  {
   "cell_type": "code",
   "execution_count": 158,
   "metadata": {},
   "outputs": [
    {
     "name": "stdout",
     "output_type": "stream",
     "text": [
      "[5, 6, 3, 15, 12]\n"
     ]
    }
   ],
   "source": [
    "x = [2, 5, 6, 3, 7, 8, 11, 15, 12]\n",
    "\n",
    "# допустим, мы хотим создать список, в котором лежат только те элементы этого списка,\n",
    "# которые делятся на 3 или 5\n",
    "new_x = []\n",
    "for num in x:\n",
    "    if num % 3 == 0 or num % 5 == 0:\n",
    "        new_x.append(num)\n",
    "        \n",
    "print(new_x)"
   ]
  },
  {
   "cell_type": "markdown",
   "metadata": {},
   "source": [
    "#### Задание\n",
    "\n",
    "Возьмём список слов:"
   ]
  },
  {
   "cell_type": "code",
   "execution_count": 135,
   "metadata": {},
   "outputs": [
    {
     "data": {
      "text/plain": [
       "['Был',\n",
       " 'домик',\n",
       " 'в',\n",
       " 'три',\n",
       " 'оконца',\n",
       " 'В',\n",
       " 'такой',\n",
       " 'окрашен',\n",
       " 'цвет,',\n",
       " 'Что',\n",
       " 'даже',\n",
       " 'в',\n",
       " 'спектре',\n",
       " 'солнца',\n",
       " 'Такого',\n",
       " 'цвета',\n",
       " 'нет.']"
      ]
     },
     "execution_count": 135,
     "metadata": {},
     "output_type": "execute_result"
    }
   ],
   "source": [
    "splitted_tarkovsky"
   ]
  },
  {
   "cell_type": "markdown",
   "metadata": {},
   "source": [
    "Создайте список, в котором лежат слова из списка выше, если они длиннее трёх симолов. "
   ]
  },
  {
   "cell_type": "code",
   "execution_count": null,
   "metadata": {},
   "outputs": [],
   "source": []
  },
  {
   "cell_type": "markdown",
   "metadata": {},
   "source": [
    "Для тех, кому всё понятно и кто идёт вперёд -- можете посмотреть на [генераторы списков](http://pythontutor.ru/lessons/lists/#section_3) или загуглить list comprehensions. Это почти то же самое, но в одну строчку :) "
   ]
  },
  {
   "cell_type": "markdown",
   "metadata": {},
   "source": [
    "### break, continue\n",
    "\n",
    "break позволяет прерывать цикл"
   ]
  },
  {
   "cell_type": "code",
   "execution_count": 138,
   "metadata": {},
   "outputs": [
    {
     "name": "stdout",
     "output_type": "stream",
     "text": [
      "0\n",
      "1\n",
      "2\n",
      "3\n",
      "4\n",
      "5\n"
     ]
    }
   ],
   "source": [
    "for i in range(10):\n",
    "    print(i)\n",
    "    if i == 5:\n",
    "        break"
   ]
  },
  {
   "cell_type": "code",
   "execution_count": 1,
   "metadata": {},
   "outputs": [
    {
     "name": "stdout",
     "output_type": "stream",
     "text": [
      "1\n",
      "1\n",
      "1\n",
      "2\n",
      "invalid!\n"
     ]
    }
   ],
   "source": [
    "a = '11101010'\n",
    "c = '1112110101'\n",
    "for char in c:\n",
    "    print(char)\n",
    "    if char not in {'1', '0'}:\n",
    "        print('invalid!')\n",
    "        break"
   ]
  },
  {
   "cell_type": "markdown",
   "metadata": {},
   "source": [
    "## Словари\n",
    "\n",
    "Guess what? Ещё один тип данных!\n",
    "\n",
    "Самое важное:\n",
    "* есть ключи и значения, можно быстро и удобно доставать значения по ключу\n",
    "* не упорядоченный\n",
    "* изменяемый\n",
    "* ключами могут быть только неизменяемые типы данных -- числа, строки, кортежи, но не списки и не множества \n",
    "\n",
    "Выглядит так:"
   ]
  },
  {
   "cell_type": "code",
   "execution_count": 123,
   "metadata": {},
   "outputs": [],
   "source": [
    "ages = {'ann': 7, 'peter': 11, 'sam': 5, 'elon': 44}"
   ]
  },
  {
   "cell_type": "code",
   "execution_count": 124,
   "metadata": {},
   "outputs": [
    {
     "data": {
      "text/plain": [
       "7"
      ]
     },
     "execution_count": 124,
     "metadata": {},
     "output_type": "execute_result"
    }
   ],
   "source": [
    "ages['ann']"
   ]
  },
  {
   "cell_type": "code",
   "execution_count": 125,
   "metadata": {},
   "outputs": [],
   "source": [
    "ages['helen'] = 15"
   ]
  },
  {
   "cell_type": "code",
   "execution_count": 126,
   "metadata": {},
   "outputs": [
    {
     "data": {
      "text/plain": [
       "{'ann': 7, 'elon': 44, 'helen': 15, 'peter': 11, 'sam': 5}"
      ]
     },
     "execution_count": 126,
     "metadata": {},
     "output_type": "execute_result"
    }
   ],
   "source": [
    "ages"
   ]
  },
  {
   "cell_type": "code",
   "execution_count": 137,
   "metadata": {},
   "outputs": [
    {
     "data": {
      "text/plain": [
       "{'ann': 11, 'elon': 44, 'helen': 15, 'peter': 11, 'sam': 5}"
      ]
     },
     "execution_count": 137,
     "metadata": {},
     "output_type": "execute_result"
    }
   ],
   "source": [
    "ages['ann'] = 11\n",
    "ages"
   ]
  },
  {
   "cell_type": "markdown",
   "metadata": {},
   "source": [
    "### Преобразования"
   ]
  },
  {
   "cell_type": "code",
   "execution_count": 127,
   "metadata": {},
   "outputs": [
    {
     "data": {
      "text/plain": [
       "['peter', 'elon', 'ann', 'helen', 'sam']"
      ]
     },
     "execution_count": 127,
     "metadata": {},
     "output_type": "execute_result"
    }
   ],
   "source": [
    "list(ages)"
   ]
  },
  {
   "cell_type": "code",
   "execution_count": 128,
   "metadata": {},
   "outputs": [
    {
     "data": {
      "text/plain": [
       "dict_keys(['peter', 'elon', 'ann', 'helen', 'sam'])"
      ]
     },
     "execution_count": 128,
     "metadata": {},
     "output_type": "execute_result"
    }
   ],
   "source": [
    "ages.keys()"
   ]
  },
  {
   "cell_type": "code",
   "execution_count": 129,
   "metadata": {},
   "outputs": [
    {
     "data": {
      "text/plain": [
       "dict_values([11, 44, 7, 15, 5])"
      ]
     },
     "execution_count": 129,
     "metadata": {},
     "output_type": "execute_result"
    }
   ],
   "source": [
    "ages.values()"
   ]
  },
  {
   "cell_type": "code",
   "execution_count": 130,
   "metadata": {},
   "outputs": [
    {
     "data": {
      "text/plain": [
       "dict_items([('peter', 11), ('elon', 44), ('ann', 7), ('helen', 15), ('sam', 5)])"
      ]
     },
     "execution_count": 130,
     "metadata": {},
     "output_type": "execute_result"
    }
   ],
   "source": [
    "ages.items()"
   ]
  },
  {
   "cell_type": "markdown",
   "metadata": {},
   "source": [
    "## Задание для семинара\n",
    "\n",
    "Дан некторый текст:"
   ]
  },
  {
   "cell_type": "code",
   "execution_count": 15,
   "metadata": {},
   "outputs": [],
   "source": [
    "text = \"\"\"\n",
    "Энтропия (от др.-греч. ἐν «в» + τροπή «поворот; превращение») — широко используемый в естественных и точных науках термин. Впервые введён в рамках термодинамики как функция состояния термодинамической системы, определяющая меру необратимого рассеивания энергии. В статистической физике энтропия характеризует вероятность осуществления какого-либо макроскопического состояния. Кроме физики, термин широко употребляется в математике: теории информации и математической статистике. Для энтропии (чаще в математике) встречается также название шенноновская информация или количество информации по Шеннону[1].\n",
    "Энтропия может интерпретироваться как мера неопределённости (неупорядоченности) некоторой системы, например, какого-либо опыта (испытания), который может иметь разные исходы, а значит, и количество информации[2][3]. Таким образом, другой интерпретацией энтропии является информационная ёмкость системы. С данной интерпретацией связан тот факт, что создатель понятия энтропии в теории информации (Клод Шеннон) сначала хотел назвать эту величину информацией.\n",
    "Понятие информационной энтропии применяется как в теории информации и математической статистике, так и в статистической физике (энтропия Гиббса и её упрощённый вариант — энтропия Больцмана)[4][5]. Математический смысл информационной энтропии — это логарифм числа доступных состояний системы (основание логарифма может быть различным, но большим 1, оно определяет единицу измерения энтропии)[6]. Такая функция от числа состояний обеспечивает свойство аддитивности энтропии для независимых систем. Причём, если состояния различаются по степени доступности (то есть не равновероятны), под числом состояний системы нужно понимать их эффективное количество, которое определяется следующим образом.\n",
    "\"\"\""
   ]
  },
  {
   "cell_type": "markdown",
   "metadata": {},
   "source": [
    "### Сделайте для него частотный словарь\n",
    "\n",
    "Tо есть такой словарь, в котором в ключах лежат слова, а в значениях -- сколько раз они встретились в тексте.\n",
    "Не забудьте учесть:\n",
    "* одно и то же слово, написанное с большой и маленькой буквы, считать за одно слово\n",
    "* стоит позаботиться о знаках препинания по бокам от слов"
   ]
  },
  {
   "cell_type": "code",
   "execution_count": 16,
   "metadata": {},
   "outputs": [
    {
     "name": "stdout",
     "output_type": "stream",
     "text": [
      "['по', 'степени', 'доступности', 'то', 'есть', 'не', 'равновероятны', 'под', 'числом', 'состояний', 'системы', 'нужно', 'понимать', 'их', 'эффективное', 'количество', 'которое', 'определяется', 'следующим', 'образом']\n"
     ]
    }
   ],
   "source": [
    "# ваш код здесь\n",
    "clean_words = []\n",
    "for word in text.split():\n",
    "    good_word = word.lower().strip('().-;,»')\n",
    "    clean_words.append(good_word)\n",
    "print(clean_words[-20:])"
   ]
  },
  {
   "cell_type": "code",
   "execution_count": null,
   "metadata": {},
   "outputs": [],
   "source": []
  },
  {
   "cell_type": "code",
   "execution_count": 18,
   "metadata": {},
   "outputs": [
    {
     "data": {
      "text/plain": [
       "{'+': 1,\n",
       " '1': 1,\n",
       " '«в': 1,\n",
       " '«поворот': 1,\n",
       " 'τροπή': 1,\n",
       " 'а': 1,\n",
       " 'аддитивности': 1,\n",
       " 'больцмана)[4][5]': 1,\n",
       " 'большим': 1,\n",
       " 'быть': 1,\n",
       " 'в': 8,\n",
       " 'вариант': 1,\n",
       " 'введён': 1,\n",
       " 'величину': 1,\n",
       " 'вероятность': 1,\n",
       " 'впервые': 1,\n",
       " 'встречается': 1,\n",
       " 'гиббса': 1,\n",
       " 'данной': 1,\n",
       " 'для': 2,\n",
       " 'доступности': 1,\n",
       " 'доступных': 1,\n",
       " 'др.-греч': 1,\n",
       " 'другой': 1,\n",
       " 'единицу': 1,\n",
       " 'если': 1,\n",
       " 'естественных': 1,\n",
       " 'есть': 1,\n",
       " 'её': 1,\n",
       " 'значит': 1,\n",
       " 'и': 6,\n",
       " 'измерения': 1,\n",
       " 'или': 1,\n",
       " 'иметь': 1,\n",
       " 'интерпретацией': 2,\n",
       " 'интерпретироваться': 1,\n",
       " 'информацией': 1,\n",
       " 'информации': 4,\n",
       " 'информации[2][3]': 1,\n",
       " 'информационная': 1,\n",
       " 'информационной': 2,\n",
       " 'информация': 1,\n",
       " 'используемый': 1,\n",
       " 'испытания': 1,\n",
       " 'исходы': 1,\n",
       " 'их': 1,\n",
       " 'как': 3,\n",
       " 'какого-либо': 2,\n",
       " 'клод': 1,\n",
       " 'количество': 3,\n",
       " 'которое': 1,\n",
       " 'который': 1,\n",
       " 'кроме': 1,\n",
       " 'логарифм': 1,\n",
       " 'логарифма': 1,\n",
       " 'макроскопического': 1,\n",
       " 'математике': 1,\n",
       " 'математике:': 1,\n",
       " 'математический': 1,\n",
       " 'математической': 2,\n",
       " 'мера': 1,\n",
       " 'меру': 1,\n",
       " 'может': 3,\n",
       " 'название': 1,\n",
       " 'назвать': 1,\n",
       " 'например': 1,\n",
       " 'науках': 1,\n",
       " 'не': 1,\n",
       " 'независимых': 1,\n",
       " 'некоторой': 1,\n",
       " 'необратимого': 1,\n",
       " 'неопределённости': 1,\n",
       " 'неупорядоченности': 1,\n",
       " 'но': 1,\n",
       " 'нужно': 1,\n",
       " 'обеспечивает': 1,\n",
       " 'образом': 2,\n",
       " 'оно': 1,\n",
       " 'определяет': 1,\n",
       " 'определяется': 1,\n",
       " 'определяющая': 1,\n",
       " 'опыта': 1,\n",
       " 'основание': 1,\n",
       " 'осуществления': 1,\n",
       " 'от': 2,\n",
       " 'по': 2,\n",
       " 'под': 1,\n",
       " 'понимать': 1,\n",
       " 'понятие': 1,\n",
       " 'понятия': 1,\n",
       " 'превращение': 1,\n",
       " 'применяется': 1,\n",
       " 'причём': 1,\n",
       " 'равновероятны': 1,\n",
       " 'различаются': 1,\n",
       " 'различным': 1,\n",
       " 'разные': 1,\n",
       " 'рамках': 1,\n",
       " 'рассеивания': 1,\n",
       " 'с': 1,\n",
       " 'свойство': 1,\n",
       " 'связан': 1,\n",
       " 'систем': 1,\n",
       " 'системы': 5,\n",
       " 'следующим': 1,\n",
       " 'смысл': 1,\n",
       " 'сначала': 1,\n",
       " 'создатель': 1,\n",
       " 'состояний': 3,\n",
       " 'состояния': 3,\n",
       " 'статистике': 2,\n",
       " 'статистической': 2,\n",
       " 'степени': 1,\n",
       " 'так': 1,\n",
       " 'такая': 1,\n",
       " 'также': 1,\n",
       " 'таким': 1,\n",
       " 'теории': 3,\n",
       " 'термин': 2,\n",
       " 'термодинамики': 1,\n",
       " 'термодинамической': 1,\n",
       " 'то': 1,\n",
       " 'тот': 1,\n",
       " 'точных': 1,\n",
       " 'употребляется': 1,\n",
       " 'упрощённый': 1,\n",
       " 'факт': 1,\n",
       " 'физике': 2,\n",
       " 'физики': 1,\n",
       " 'функция': 2,\n",
       " 'характеризует': 1,\n",
       " 'хотел': 1,\n",
       " 'чаще': 1,\n",
       " 'числа': 2,\n",
       " 'числом': 1,\n",
       " 'что': 1,\n",
       " 'шеннон': 1,\n",
       " 'шенноновская': 1,\n",
       " 'шеннону[1]': 1,\n",
       " 'широко': 2,\n",
       " 'энергии': 1,\n",
       " 'энтропии': 6,\n",
       " 'энтропии)[6]': 1,\n",
       " 'энтропия': 5,\n",
       " 'это': 1,\n",
       " 'эту': 1,\n",
       " 'эффективное': 1,\n",
       " 'является': 1,\n",
       " 'ёмкость': 1,\n",
       " 'ἐν': 1,\n",
       " '—': 3}"
      ]
     },
     "execution_count": 18,
     "metadata": {},
     "output_type": "execute_result"
    }
   ],
   "source": [
    "freq_d = {}\n",
    "for word in clean_words:\n",
    "    if word not in freq_d:\n",
    "        freq_d[word] = 1\n",
    "    else:\n",
    "        freq_d[word] = freq_d[word] + 1\n",
    "        \n",
    "freq_d"
   ]
  },
  {
   "cell_type": "markdown",
   "metadata": {},
   "source": [
    "### Сколько раз встретилось самое частотное слово?"
   ]
  },
  {
   "cell_type": "code",
   "execution_count": 13,
   "metadata": {},
   "outputs": [
    {
     "data": {
      "text/plain": [
       "255"
      ]
     },
     "execution_count": 13,
     "metadata": {},
     "output_type": "execute_result"
    }
   ],
   "source": [
    "vals = list(freq_d.values())\n",
    "max(vals)"
   ]
  },
  {
   "cell_type": "markdown",
   "metadata": {},
   "source": [
    "### Преобразуйте словать так, чтобы в значениях лежали  относительные частоты"
   ]
  },
  {
   "cell_type": "code",
   "execution_count": null,
   "metadata": {},
   "outputs": [],
   "source": []
  },
  {
   "cell_type": "code",
   "execution_count": 47,
   "metadata": {},
   "outputs": [
    {
     "name": "stdout",
     "output_type": "stream",
     "text": [
      "Qwerty\n",
      "qwerty\n"
     ]
    }
   ],
   "source": [
    "# неизменяемые типы: строки, инты (числа), Boolean, кортежи\n",
    "var1 = 'Qwerty'\n",
    "var2 = var1.lower()\n",
    "print(var1)\n",
    "print(var2)"
   ]
  },
  {
   "cell_type": "code",
   "execution_count": 49,
   "metadata": {},
   "outputs": [
    {
     "name": "stdout",
     "output_type": "stream",
     "text": [
      "[1, 5, 8]\n",
      "[1, 5, 8, 12]\n"
     ]
    }
   ],
   "source": [
    "# изменяемые типы: списки, множества, словари\n",
    "arr = [1, 5, 8]\n",
    "print(arr)\n",
    "arr.append(12)\n",
    "print(arr)"
   ]
  },
  {
   "cell_type": "markdown",
   "metadata": {},
   "source": [
    "## pythontutor по семинару\n",
    "\n",
    "* http://pythontutor.ru/lessons/lists/#section_2\n",
    "* http://pythontutor.ru/lessons/sets/\n",
    "* http://pythontutor.ru/lessons/dicts/"
   ]
  },
  {
   "cell_type": "markdown",
   "metadata": {},
   "source": [
    "## Домашние задания\n",
    "\n",
    "Выберите и сделайте любое. Если интересно, сделайте сколько хотите. :)\n",
    "\n",
    "### 0. Пирамида\n",
    "\n",
    "Сделайте задание на пирамидку из конца предыдущего семинара, если ещё не :)\n",
    "\n",
    "### 1. Плюсик\n",
    "\n",
    "Напишите код, который для производного числа `n` и производного символа `mark` рисует большой плюсик из символа, заданного в `mark` и имеющего высоту `n`. Например, для\n",
    "```python\n",
    "n = 7\n",
    "mark = '*'\n",
    "```\n",
    "\n",
    "долен получиться такой плюсик:\n",
    "```\n",
    "      *      \n",
    "      *      \n",
    "      *      \n",
    "* * * * * * * \n",
    "      *      \n",
    "      *      \n",
    "      *      \n",
    "```\n",
    "\n",
    "(считайте, что в начале рисунка перед плюсиком нет отступа).\n",
    "А для\n",
    "```python\n",
    "n = 11\n",
    "mark = 'ё'\n",
    "```\n",
    "\n",
    "вот такой:\n",
    "```\n",
    "          ё          \n",
    "          ё          \n",
    "          ё          \n",
    "          ё          \n",
    "          ё          \n",
    "ё ё ё ё ё ё ё ё ё ё ё \n",
    "          ё          \n",
    "          ё          \n",
    "          ё          \n",
    "          ё          \n",
    "          ё          \n",
    "```\n",
    "\n",
    "*Подсказка: между символами в среднем ряду стоят пробелы; без пробелов они стоят слишком близко друг к другу.*\n",
    "\n",
    "*Подсказка 2: можно не беспокоиться о том, что происходит при чётных `n` (всё слегка едет).*"
   ]
  },
  {
   "cell_type": "code",
   "execution_count": 44,
   "metadata": {},
   "outputs": [
    {
     "name": "stdout",
     "output_type": "stream",
     "text": [
      "    ?    \n",
      "    ?    \n",
      "? ? ? ? ? \n",
      "    ?    \n",
      "    ?    \n"
     ]
    }
   ],
   "source": [
    "draw_plus(5, '?')"
   ]
  },
  {
   "cell_type": "code",
   "execution_count": 46,
   "metadata": {},
   "outputs": [],
   "source": [
    "# ваш код здесь\n"
   ]
  },
  {
   "cell_type": "markdown",
   "metadata": {},
   "source": [
    "### 2. Клеточка*\n",
    "\n",
    "(для тех, кому рисовать плюсик скучно)\n",
    "\n",
    "То же самое, что и в предыдущем задании, но рисунок должен получаться примерно такой.\n",
    "\n",
    "Переменные:\n",
    "\n",
    "```python\n",
    "n = 12\n",
    "mark = '8'\n",
    "```\n",
    "\n",
    "Результат:\n",
    "\n",
    "```\n",
    "       8        8        \n",
    "       8        8        \n",
    "       8        8        \n",
    "8 8 8 8 8 8 8 8 8 8 8 8 \n",
    "       8        8        \n",
    "       8        8        \n",
    "       8        8        \n",
    "       8        8        \n",
    "8 8 8 8 8 8 8 8 8 8 8 8 \n",
    "       8        8        \n",
    "       8        8        \n",
    "       8        8        \n",
    "```\n",
    "\n",
    "Переменные:\n",
    "\n",
    "```python\n",
    "n = 9\n",
    "mark = '?'\n",
    "```\n",
    "\n",
    "Результат:\n",
    "\n",
    "```\n",
    "     ?      ?      \n",
    "     ?      ?      \n",
    "? ? ? ? ? ? ? ? ? \n",
    "     ?      ?      \n",
    "     ?      ?      \n",
    "     ?      ?      \n",
    "? ? ? ? ? ? ? ? ? \n",
    "     ?      ?      \n",
    "     ?      ?     \n",
    "```"
   ]
  },
  {
   "cell_type": "code",
   "execution_count": 70,
   "metadata": {},
   "outputs": [
    {
     "name": "stdout",
     "output_type": "stream",
     "text": [
      "   a    a    \n",
      "a a a a a a \n",
      "   a    a    \n",
      "   a    a    \n",
      "a a a a a a \n",
      "   a    a    \n"
     ]
    }
   ],
   "source": [
    "draw_square(6, 'a')"
   ]
  },
  {
   "cell_type": "code",
   "execution_count": 72,
   "metadata": {},
   "outputs": [],
   "source": [
    "# ваш код здесь\n"
   ]
  },
  {
   "cell_type": "markdown",
   "metadata": {},
   "source": [
    "### 3. Обратный индекс\n",
    "\n",
    "Есть словарь, в котором ключи -- фамилии поэтов, а значения -- строфы и их стихотворений:"
   ]
  },
  {
   "cell_type": "code",
   "execution_count": 8,
   "metadata": {},
   "outputs": [],
   "source": [
    "poets = {\n",
    "    'Пушкин': \n",
    "\"\"\"Духовной жаждою томим,\n",
    "В пустыне мрачной я влачился, —\n",
    "И шестикрылый серафим\n",
    "На перепутье мне явился.\"\"\",\n",
    "    'Пастернак':\n",
    "\"\"\"Гул затих. Я вышел на подмостки.\n",
    "Прислонясь к дверному косяку,\n",
    "Я ловлю в далеком отголоске,\n",
    "Что случится на моем веку.\n",
    "    \"\"\",\n",
    "    'Тарковский':\n",
    "\"\"\"Был домик в три оконца \n",
    "В такой окрашен цвет, \n",
    "Что даже в спектре солнца \n",
    "Такого цвета нет. \n",
    "Он был ещё спектральней, \n",
    "Зелёный до того, \n",
    "Что я в окошко спальни \n",
    "Молился на него. \n",
    " \"\"\",\n",
    "    'Мандельштам':\n",
    "\"\"\"Я вернулся в мой город, знакомый до слёз,\n",
    "До прожилок, до детских припухлых желёз.\n",
    "\n",
    "Ты вернулся сюда, так глотай же скорей\n",
    "Рыбий жир ленинградских речных фонарей\"\"\"\n",
    "}"
   ]
  },
  {
   "cell_type": "markdown",
   "metadata": {},
   "source": [
    "Сгенерируйте такой словарь, в котором в ключах лежат слова из стихов, а в значениях -- поэты, в стихах которых встретились эти слова. Например, по ключу *на* должен быть список из Пастернака, Пушкина и Тарковского.\n",
    "\n",
    "*Обратный индекс -- полезная вещь для многих задач, связаных с поиском по тексту. Он используется в поисковиках.*"
   ]
  },
  {
   "cell_type": "code",
   "execution_count": 25,
   "metadata": {},
   "outputs": [],
   "source": [
    "import re"
   ]
  },
  {
   "cell_type": "code",
   "execution_count": 57,
   "metadata": {},
   "outputs": [
    {
     "name": "stdout",
     "output_type": "stream",
     "text": [
      "{'Пастернак', 'Тарковский', 'Пушкин'}\n"
     ]
    }
   ],
   "source": [
    "iversed_index = {}\n",
    "\n",
    "for poet in poets:\n",
    "    verse = poets[poet]\n",
    "    cleaned_verse = re.sub('[.!?,—]', '', verse.lower())\n",
    "    list_of_words_in_verse = cleaned_verse.split()\n",
    "    \n",
    "    for word in list_of_words_in_verse:\n",
    "        if word in iversed_index:\n",
    "            iversed_index[word].add(poet)\n",
    "                \n",
    "        else:\n",
    "            iversed_index[word] = {poet}\n",
    "print(iversed_index['на'])"
   ]
  }
 ],
 "metadata": {
  "kernelspec": {
   "display_name": "Python 3",
   "language": "python",
   "name": "python3"
  },
  "language_info": {
   "codemirror_mode": {
    "name": "ipython",
    "version": 3
   },
   "file_extension": ".py",
   "mimetype": "text/x-python",
   "name": "python",
   "nbconvert_exporter": "python",
   "pygments_lexer": "ipython3",
   "version": "3.5.2"
  }
 },
 "nbformat": 4,
 "nbformat_minor": 2
}
